{
 "cells": [
  {
   "cell_type": "code",
   "execution_count": 1,
   "metadata": {},
   "outputs": [],
   "source": [
    "import numpy as np\n",
    "import matplotlib.pyplot as plt\n",
    "import torch\n",
    "from torch.utils.data import Dataset,DataLoader\n",
    "import torchvision\n",
    "import os\n",
    "import cv2 as cv\n",
    "import pandas as pd"
   ]
  },
  {
   "cell_type": "code",
   "execution_count": 2,
   "metadata": {},
   "outputs": [],
   "source": [
    "classes=[\"COVID\",\"Lung_Opacity\",\"Normal\",\"Viral_Pneumonia\"]\n",
    "\n",
    "class XrayImagesDataset(Dataset):\n",
    "  def __init__(self,data_dir,classes,transform):\n",
    "    self.data_dir=data_dir\n",
    "    self.transform=transform\n",
    "    self.classes=classes\n",
    "    self.data=[]\n",
    "    \n",
    "    for c in self.classes:\n",
    "      for img in os.listdir(data_dir+\"/\"+c+\"/images/\"):\n",
    "        self.data.append({\"path\":img,\"class\":c})\n",
    "  \n",
    "  def __len__(self):\n",
    "    return len(self.data)\n",
    "    \n",
    "  def __getitem__(self,index):\n",
    "    return self.data[index][\"path\"],self.data[index][\"class\"]"
   ]
  },
  {
   "cell_type": "code",
   "execution_count": 5,
   "metadata": {},
   "outputs": [],
   "source": [
    "data=XrayImagesDataset(\"dataset/COVID-19_Radiography_Dataset\",classes,[])"
   ]
  }
 ],
 "metadata": {
  "kernelspec": {
   "display_name": ".venv",
   "language": "python",
   "name": "python3"
  },
  "language_info": {
   "codemirror_mode": {
    "name": "ipython",
    "version": 3
   },
   "file_extension": ".py",
   "mimetype": "text/x-python",
   "name": "python",
   "nbconvert_exporter": "python",
   "pygments_lexer": "ipython3",
   "version": "3.11.9"
  }
 },
 "nbformat": 4,
 "nbformat_minor": 2
}
